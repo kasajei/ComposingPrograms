{
 "cells": [
  {
   "cell_type": "markdown",
   "metadata": {},
   "source": [
    "# Chapter 1: Building Abstractions with Functions\n",
    "\n",
    "## 1.1Getting Started\n",
    "\n",
    "\n",
    "Python3でやっていくよ。SICPを元にしているよ。[Creative Commons attribution non-commericial share-alike license version 3](http://creativecommons.org/licenses/by-nc-sa/3.0/deed.en_US)だよ。"
   ]
  },
  {
   "cell_type": "markdown",
   "metadata": {},
   "source": [
    "### 1.1.4  最初の例題"
   ]
  },
  {
   "cell_type": "code",
   "execution_count": 11,
   "metadata": {
    "collapsed": false
   },
   "outputs": [
    {
     "data": {
      "text/plain": [
       "['reward', 'drawer', 'diaper', 'redder', 'repaid']"
      ]
     },
     "execution_count": 11,
     "metadata": {},
     "output_type": "execute_result"
    }
   ],
   "source": [
    "from urllib.request import urlopen\n",
    "\n",
    "shakespeare = urlopen('http://composingprograms.com/shakespeare.txt')\n",
    "words = set(shakespeare.read().decode().split())\n",
    "[w for w in words if len(w)==6 and w[::-1] in words]"
   ]
  },
  {
   "cell_type": "markdown",
   "metadata": {},
   "source": [
    "最後の `w[::-1]`は順番を逆にしていて 、\"abc\" → \"cba\" となる。\n",
    "回分文字がwordsに含まれているのかのチェックをしているので、結果は逆転させた単語がどちらも含まれている。"
   ]
  },
  {
   "cell_type": "code",
   "execution_count": 12,
   "metadata": {
    "collapsed": false
   },
   "outputs": [
    {
     "data": {
      "text/plain": [
       "'cba'"
      ]
     },
     "execution_count": 12,
     "metadata": {},
     "output_type": "execute_result"
    }
   ],
   "source": [
    "word = \"abc\"\n",
    "word[::-1]"
   ]
  }
 ],
 "metadata": {
  "kernelspec": {
   "display_name": "Python 3",
   "language": "python",
   "name": "python3"
  },
  "language_info": {
   "codemirror_mode": {
    "name": "ipython",
    "version": 3
   },
   "file_extension": ".py",
   "mimetype": "text/x-python",
   "name": "python",
   "nbconvert_exporter": "python",
   "pygments_lexer": "ipython3",
   "version": "3.4.3"
  }
 },
 "nbformat": 4,
 "nbformat_minor": 0
}
